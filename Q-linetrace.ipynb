{
 "cells": [
  {
   "cell_type": "markdown",
   "metadata": {},
   "source": [
    "# 強化学習勉強会 \n",
    "---------------------------------------\n",
    "<div style=\"text-align: right;\">\n",
    "     RDC.Lab\n",
    "    <br>\n",
    "     B4 Matsumoto Koki \n",
    "    <br>\n",
    "    2020/08/24 Mon.  \n",
    "</div>"
   ]
  },
  {
   "cell_type": "markdown",
   "metadata": {},
   "source": [
    "## はじめに\n",
    "---------------------------------------\n",
    "+ これはRDC.Lab(林原研究室)のB3に向けた強化学習の勉強会の資料です。\n",
    "+ ライントレースカーの制御を強化学習で実装してみたもの使って説明していきます。\n",
    "+ インストールが必要なライブラリや環境は以下の通りです。\n",
    "    - **numpy**\n",
    "    - **matplotlib**\n",
    "    - **python3.x**\n",
    "    - **jupyter notebook**\n",
    "+ 可能な限りコメントを入れてコードの解説をしていますが、pythonに慣れてない方も多いと思うのでわからないところは気軽に質問に来てください！\n",
    "> 質問はslackのDMかtimes_matsumotoにどうぞ！"
   ]
  },
  {
   "cell_type": "markdown",
   "metadata": {},
   "source": [
    "# コード解説\n",
    "---------------------------------------\n",
    "## 1. import 部分"
   ]
  },
  {
   "cell_type": "code",
   "execution_count": 1,
   "metadata": {},
   "outputs": [],
   "source": [
    "import numpy as np\n",
    "from numpy import pi\n",
    "from matplotlib import pyplot as plt\n",
    "import csv\n",
    "from collections import deque\n",
    "import IPython.display"
   ]
  },
  {
   "attachments": {
    "image.png": {
     "image/png": "[encoded data removed]"
    }
   },
   "cell_type": "markdown",
   "metadata": {},
   "source": [
    "## 2. field定義\n",
    "---------------------------------------\n",
    "- 知能ロボコンのフィールドを参考に作成  \n",
    "![image.png](attachment:image.png)"
   ]
  },
  {
   "cell_type": "code",
   "execution_count": 2,
   "metadata": {},
   "outputs": [],
   "source": [
    "# センサの判定部分\n",
    "n_line = []\n",
    "n_line.append(lambda x: -10<=x[0]<=10 and -10<=x[1]<=1150)\n",
    "n_line.append(lambda x: x[0]<=150 and 1150<=x[1] and 140<=np.linalg.norm(np.array(x)-np.array([150,1150]))<=160)\n",
    "n_line.append(lambda x: 150<=x[0]<=300 and 1290<=x[1]<=1310)\n",
    "n_line.append(lambda x: 300<=x[0]<=890 and 1290<=x[1]<=1310)\n",
    "n_line.append(lambda x: 890<=x[0] and 1150<=x[1] and 140<=np.linalg.norm(np.array(x)-np.array([890,1150]))<=160)\n",
    "n_line.append(lambda x: 1030<=x[0]<=1050 and 1000<=x[1]<=1150)\n",
    "n_line.append(lambda x: 1030<=x[0]<=1050 and 900<=x[1]<=1000)\n",
    "n_line.append(lambda x: 1030<=x[0]<=1050 and 800<=x[1]<=900)"
   ]
  },
  {
   "cell_type": "code",
   "execution_count": 3,
   "metadata": {},
   "outputs": [],
   "source": [
    "# 可視化のためにプロット\n",
    "nplot_x1 = [10]\n",
    "nplot_y1 = [0]\n",
    "nplot_x2 = [-10]\n",
    "nplot_y2 = [0]\n",
    "\n",
    "for th in (np.linspace(0,pi/2,45)):\n",
    "    nplot_x1.append(150-140*np.cos(th))\n",
    "    nplot_y1.append(1150+140*np.sin(th))\n",
    "    nplot_x2.append(150-160*np.cos(th)) \n",
    "    nplot_y2.append(1150+160*np.sin(th)) \n",
    "\n",
    "for th in (np.linspace(0,pi/2,45)):\n",
    "    nplot_x1.append(890+140*np.sin(th))\n",
    "    nplot_y1.append(1150+140*np.cos(th))\n",
    "    nplot_x2.append(890+160*np.sin(th)) \n",
    "    nplot_y2.append(1150+160*np.cos(th)) \n",
    "    \n",
    "nplot_x1.append(1030)\n",
    "nplot_y1.append(900)\n",
    "nplot_x2.append(1050)\n",
    "nplot_y2.append(900)"
   ]
  },
  {
   "cell_type": "markdown",
   "metadata": {},
   "source": [
    "## 3. フィールドを描画してみる"
   ]
  },
  {
   "cell_type": "code",
   "execution_count": 4,
   "metadata": {},
   "outputs": [],
   "source": [
    "#　結果部分でも使うので関数化しておく\n",
    "def plot_field_line():\n",
    "    plt.plot(nplot_x1,nplot_y1,color=\"black\")\n",
    "    plt.plot(nplot_x2,nplot_y2,color=\"black\")"
   ]
  },
  {
   "cell_type": "code",
   "execution_count": 14,
   "metadata": {},
   "outputs": [
    {
     "data": {
      "image/png": "[encoded data removed]",
      "text/plain": [
       "<Figure size 432x288 with 1 Axes>"
      ]
     },
     "metadata": {
      "needs_background": "light"
     },
     "output_type": "display_data"
    }
   ],
   "source": [
    "plot_field_line()\n",
    "plt.axes().set_aspect('equal')\n",
    "plt.show()"
   ]
  },
  {
   "cell_type": "markdown",
   "metadata": {},
   "source": [
    "## 4. ライントレースカー の定義\n",
    "---------------------------------------\n",
    "- 最高速度 10mm/sec\n",
    "- トレッド 200mm\n",
    "- ロボットの中心から150mm前方に4つ設置"
   ]
  },
  {
   "cell_type": "code",
   "execution_count": 6,
   "metadata": {},
   "outputs": [],
   "source": [
    "class line_trace_car(object):\n",
    "    sensors = np.array([[150,22.5],[150,7.5],[150,-7.5],[150,-22.5]])   # センサの位置を定義\n",
    "    tread = 200                                                                                                     #  トレッドの定義\n",
    "    car_order = [0,10]                                                                                         #  最低/最高速度の定義\n",
    "    init_pos = np.array([[-10,10],[-10,10],[80*pi/180,100*pi/180]])      # 　初期位置候補\n",
    "    action_space = 9                                                                                            #  行動空間(加速、減速、何もしない)^(右、左)の9種類\n",
    "        \n",
    "    def __init__(self,lines):\n",
    "        self.lines = lines\n",
    "        \n",
    "        # 初期位置決定 センサのどこかが反応してるところから開始するようにする\n",
    "        while True:\n",
    "            self.pos_x = np.random.uniform(self.init_pos[0,0],self.init_pos[0,1])\n",
    "            self.pos_y = np.random.uniform(self.init_pos[1,0],self.init_pos[1,1]) - 150\n",
    "            self.pos_a = np.random.uniform(self.init_pos[2,0],self.init_pos[2,1])\n",
    "            if any(self.get_sense()):\n",
    "                break\n",
    "                \n",
    "        # 角速度の初期化\n",
    "        self.mtrL = self.car_order[0]\n",
    "        self.mtrR = self.car_order[0]\n",
    "        \n",
    "        # ログの初期化\n",
    "        self.car_pos = [[],[]]\n",
    "        self.sensor_pos = []\n",
    "        for _ in range(len(self.sensors)):\n",
    "            self.sensor_pos.append([[],[]])\n",
    "            \n",
    "    def get_sense(self):   # センサの値を取得できる関数\n",
    "        sense = []\n",
    "        angs = np.array([[np.cos(self.pos_a),-np.sin(self.pos_a)],[np.sin(self.pos_a),np.cos(self.pos_a)]])   #回転行列\n",
    "        \n",
    "        #センサを座標変換 ＆ センサの01を判断\n",
    "        for i in range(len(self.sensors)):\n",
    "            sensor_val = 0\n",
    "            sensor_p = np.array([sum(self.sensors[i] * angs[0]) + self.pos_x,sum(self.sensors[i]  * angs[1]) +  self.pos_y])\n",
    "            for j ,line in enumerate(self.lines):\n",
    "                if line(sensor_p):\n",
    "                    sensor_val = j+1\n",
    "                    break\n",
    "            sense.append(sensor_val)\n",
    "        return sense\n",
    "    \n",
    "    def step(self,action=9):\n",
    "        #　9種類の行動に合わせてモーターの制御\n",
    "        mL = np.clip(self.mtrL + action//3 -1, self.car_order[0],self.car_order[1])           \n",
    "        mR = np.clip(self.mtrR + action%3 -1, self.car_order[0],self.car_order[1])\n",
    "        \n",
    "        #　±5%の範囲でノイズを発生させる\n",
    "        act_mL =np.random.uniform(0.45,0.55) * (self.mtrL + mL)\n",
    "        act_mR =np.random.uniform(0.45,0.55) * (self.mtrR + mR)\n",
    "        \n",
    "        # 座標, 姿勢の近似式\n",
    "        mid_angle =  self.pos_a + (act_mR-act_mL) / (4 * self.tread) \n",
    "        self.pos_x += np.cos(mid_angle) * (act_mL+act_mR)/2\n",
    "        self.pos_y += np.sin(mid_angle) * (act_mL+act_mR)/2\n",
    "        self.pos_a += (act_mR-act_mL)/(2 * self.tread)\n",
    "        real = (mL - self.mtrL + 1) * 3 + (mR - self.mtrR + 1)\n",
    "        \n",
    "        # 更新\n",
    "        self.mtrL = mL\n",
    "        self.mtrR = mR\n",
    "        \n",
    "        return ([act_mL,act_mR],real)\n",
    "    \n",
    "    def checck_done(self,sense):     # 終了判定\n",
    "        sense = np.array(sense)\n",
    "        done = 0\n",
    "        if not any(sense):                      # センサが一個も反応しなかったら終了\n",
    "            done = -1\n",
    "        elif min(sense[sense.nonzero()]) == len(self.lines):   # ゴールに達しても終了\n",
    "            done = 1\n",
    "        return done\n",
    "\n",
    "    \n",
    "    # 座標の可視化\n",
    "    def plot_state(self):\n",
    "        self.car_pos[0].append(self.pos_x)\n",
    "        self.car_pos[1].append(self.pos_y)\n",
    "        angs = np.array([[np.cos(self.pos_a),-np.sin(self.pos_a)],[np.sin(self.pos_a),np.cos(self.pos_a)]])\n",
    "        for i in range(len(self.sensors)):\n",
    "            sensor_p = np.array([sum(self.sensors[i] * angs[0]) + self.pos_x,sum(self.sensors[i]  * angs[1]) +  self.pos_y])\n",
    "            self.sensor_pos[i][0].append(sensor_p[0])\n",
    "            self.sensor_pos[i][1].append(sensor_p[1])\n",
    "\n",
    "    # 軌跡の可視化\n",
    "    def path_plot(self,plt):\n",
    "        plt.plot(self.car_pos[0],self.car_pos[1],label=\"car_pos\")\n",
    "        for i in range(len(self.sensors)):\n",
    "            plt.plot(self.sensor_pos[i][0],self.sensor_pos[i][1],label=\"sensor\"+str(i+1))"
   ]
  },
  {
   "cell_type": "markdown",
   "metadata": {},
   "source": [
    "## 5. 学習部分"
   ]
  },
  {
   "cell_type": "code",
   "execution_count": 7,
   "metadata": {},
   "outputs": [],
   "source": [
    "# 状態空間の取得\n",
    "def get_state(car,s_state,v_state):\n",
    "    state = [i != 0 for i in s_state]\n",
    "    state.extend([car.mtrL,car.mtrR])\n",
    "    # 2進数表現を10進数表現に変換するイメージで現在の状態を表現\n",
    "    return sum(np.array(state) * (np.array([1,2,4,8,16,(line_trace_car.car_order[1]-line_trace_car.car_order[0]+1)*16])))"
   ]
  },
  {
   "cell_type": "code",
   "execution_count": 8,
   "metadata": {},
   "outputs": [],
   "source": [
    "#　 Q_tableから行動を決定する\n",
    "def decide_action(next_state,episode,q_table):\n",
    "    first_probability = 0.75\n",
    "    epsilon = first_probability * (1/(episode+1))\n",
    "    if epsilon <= np.random.uniform(0,1):\n",
    "        next_action = np.argmax(q_table[next_state])            #Q値の一番大きい行動を選択\n",
    "    else:\n",
    "        prob = sum(q_table[next_state]+100)                         #マイナスにならないようにマージン(もっといい方法あるかも)\n",
    "        w = (q_table[next_state]+100) / prob\n",
    "        next_action = np.random.choice(range(9) ,p=w)         # 確率でランダムな行動を選択\n",
    "    return next_action"
   ]
  },
  {
   "cell_type": "code",
   "execution_count": 9,
   "metadata": {},
   "outputs": [],
   "source": [
    "#  Q-tableを更新する\n",
    "def update_Qtable(q_table,state,action,reward,next_state):\n",
    "    gamma = 0.9\n",
    "    alpha = 0.8\n",
    "    next_max_q = max(q_table[next_state])\n",
    "    q_table[state,action] = (1 - alpha) * q_table[state,action] + alpha * (reward + gamma * next_max_q)    #　Q学習の式から\n",
    "    return q_table"
   ]
  },
  {
   "cell_type": "code",
   "execution_count": 10,
   "metadata": {},
   "outputs": [],
   "source": [
    "# 　報酬関数の設定　PIDでいうところのパラメータ調整に当たる部分（自由に変えてください！）\n",
    "def update_reward(v_state,s_state,done,level):\n",
    "        reward = 0\n",
    "        if sum(v_state)/2 <= 1:\n",
    "            reward = -1 \n",
    "        if s_state[0] or s_state[3]:\n",
    "            reward += -0.1\n",
    "        elif not done:\n",
    "            reward += level \n",
    "        elif done and level == 8:\n",
    "            reward += 500\n",
    "        else:\n",
    "            reward = -10\n",
    "\n",
    "        return reward"
   ]
  },
  {
   "cell_type": "code",
   "execution_count": 11,
   "metadata": {},
   "outputs": [],
   "source": [
    "# 実行部分\n",
    "def run():\n",
    "    # 各種パラメータ群\n",
    "    legend_flag = False \n",
    "    result = False\n",
    "    learining_is_done = False\n",
    "    max_episode = 10000                                             #　最大エピソード数\n",
    "    step_by_episode = 1500                                        # 1エピソード毎の最大step数\n",
    "    goal_ave = 8.0                                                          # 学習が終了する値\n",
    "    review_num = 10                                                      # 評価する値の直近の数\n",
    "    reward_of_episode = 0                                            # 報酬の初期化\n",
    "    goal_times = 0                                                          # ゴールした回数\n",
    "    reward_ave = np.full(review_num,0)                     # 直近10回の報酬値を格納  \n",
    "    # Q-tableの初期化\n",
    "    q_table = np.random.uniform(low=-1,high=1,\\\n",
    "                                                        size=(2**4 * (line_trace_car.car_order[1]-line_trace_car.car_order[0]+1) ** 2 , \\\n",
    "                                                        line_trace_car.action_space))\n",
    "    transition_data = [] \n",
    "    x_axis = []\n",
    "    np.random.seed(0)\n",
    "    \n",
    "    for episode in range(max_episode):\n",
    "        if result: break\n",
    "        level = 0\n",
    "        reward_of_episode = 0\n",
    "        reward = 0\n",
    "        car=line_trace_car(n_line)                                  # ライントレースカーのインスタンスを作成\n",
    "        s_state = car.get_sense()                                   # センサ値を取得 \n",
    "        v_state = None \n",
    "        state  = get_state(car,s_state,v_state) \n",
    "        action = np.argmax(q_table[state])                  #Q-tableからアクションを選択\n",
    "\n",
    "\n",
    "        for i in range(step_by_episode):\n",
    "            v_state = car.step(action)[0]\n",
    "            s_state = car.get_sense()\n",
    "            done = car.checck_done(car.get_sense())                                           # 終了判定\n",
    "            reward = update_reward(v_state,s_state,done,level)                        # 報酬を取得\n",
    "            reward_of_episode += reward\n",
    "            level = max(max(s_state), level)                                                            # 現在の位置\n",
    "            \n",
    "            next_state = get_state(car,s_state,v_state)                                      # 状態空間を取得\n",
    "            q_table = update_Qtable(q_table,state,action,reward,next_state) #  Q-tabelの更新\n",
    "            action = decide_action(next_state,episode,q_table)\n",
    "            state = next_state\n",
    "            \n",
    "            # 可視化用\n",
    "            # if learining_is_done or episode % 3000 == 0:\n",
    "            if learining_is_done:\n",
    "                car.plot_state()\n",
    "                plot_field_line()\n",
    "                car.path_plot(plt)\n",
    "                if not legend_flag:\n",
    "                    plt.legend()\n",
    "                    legend_flag = True\n",
    "                \n",
    "                # リアルタイムで描画する時はコメントを外す, jupyter用ではないので注意\n",
    "                #plt.axes().set_aspect('equal')\n",
    "                #plt.draw()\n",
    "                #plt.pause(0.00001)\n",
    "            \n",
    "            if done:\n",
    "                if level == 8:\n",
    "                    goal_times+=1\n",
    "                legend_flag = False\n",
    "                reward_ave = np.hstack((reward_ave[1:],level))               # 報酬を格納\n",
    "                if episode%100 == 99:\n",
    "                    # アウトプット用　jupyterだと幅の確保ができなくてちょっと汚いかも\n",
    "                    #print(\"episode %5d, reward %6d, step %5d, x:%5d, y:%5d, level %d, reward_ave %f\" \\\n",
    "                    #%(episode+1,reward_of_episode,i+1,car.pos_x,car.pos_y,level,reward_ave.mean()))\n",
    "                    print(\"episode %5d, reward %6d, step %5d, level %d\" %(episode+1,reward_of_episode,i+1,level))  \n",
    "                transition_data.append(reward_ave.mean())\n",
    "                x_axis.append(episode)\n",
    "                if learining_is_done == 1 :\n",
    "                    plt.axes().set_aspect('equal')\n",
    "                    plt.show()\n",
    "                    result = True\n",
    "                break \n",
    "\n",
    "        # 簡単なlogの記録\n",
    "        if (reward_ave.mean() >= goal_ave) or  episode+1 == max_episode:\n",
    "            print(\"Episode %d train agent fin!\" %(episode+1))\n",
    "            print(\"goal_times: \"+str(goal_times))\n",
    "            with open('./csv/file.csv', 'wt') as f:\n",
    "                writer = csv.writer(f)\n",
    "                writer.writerows(q_table)\n",
    "            print(\"saved\")\n",
    "            with open('./csv/transition_data.csv', 'wt') as f:\n",
    "                writer = csv.writer(f)\n",
    "                data = np.c_[x_axis,transition_data]\n",
    "                writer.writerows(data)\n",
    "            learining_is_done = 1"
   ]
  },
  {
   "cell_type": "markdown",
   "metadata": {},
   "source": [
    "## 6. 実行＆結果"
   ]
  },
  {
   "cell_type": "code",
   "execution_count": 12,
   "metadata": {
    "scrolled": false
   },
   "outputs": [
    {
     "name": "stdout",
     "output_type": "stream",
     "text": [
      "episode   100, reward    582, step   544, level 3\n",
      "episode   200, reward    759, step   725, level 3\n",
      "episode   300, reward     -4, step    28, level 1\n",
      "episode   400, reward    666, step   633, level 3\n",
      "episode   500, reward    -13, step    22, level 1\n",
      "episode   600, reward    544, step   581, level 3\n",
      "episode   700, reward    600, step   611, level 2\n",
      "episode   800, reward    116, step   172, level 2\n",
      "episode   900, reward    726, step   658, level 2\n",
      "episode  1000, reward    622, step   609, level 2\n",
      "episode  1100, reward    606, step   570, level 2\n",
      "episode  1200, reward    686, step   624, level 2\n",
      "episode  1300, reward    502, step   509, level 2\n",
      "episode  1400, reward   2782, step  1313, level 8\n",
      "Episode 1406 train agent fin!\n",
      "goal_times: 36\n",
      "saved\n"
     ]
    },
    {
     "data": {
      "image/png": "[encoded data removed]",
      "text/plain": [
       "<Figure size 432x288 with 1 Axes>"
      ]
     },
     "metadata": {
      "needs_background": "light"
     },
     "output_type": "display_data"
    },
    {
     "name": "stdout",
     "output_type": "stream",
     "text": [
      "Episode 1407 train agent fin!\n",
      "goal_times: 37\n",
      "saved\n"
     ]
    }
   ],
   "source": [
    "run()"
   ]
  },
  {
   "cell_type": "markdown",
   "metadata": {},
   "source": [
    "## 7-1 成功と失敗の例\n",
    "<table>\n",
    "    <tr>\n",
    "        <td><img src=\"faild.png\"></td>\n",
    "        <td><img src=\"success.png\"></td>\n",
    "    </tr>\n",
    "</table>"
   ]
  },
  {
   "cell_type": "markdown",
   "metadata": {},
   "source": [
    "## 7-2 アニメーションの様子"
   ]
  },
  {
   "cell_type": "code",
   "execution_count": 13,
   "metadata": {
    "scrolled": true
   },
   "outputs": [
    {
     "data": {
      "text/html": [
       "\n",
       "        <iframe\n",
       "            width=\"400\"\n",
       "            height=\"300\"\n",
       "            src=\"https://www.youtube.com/embed/xj121Km8_tw\"\n",
       "            frameborder=\"0\"\n",
       "            allowfullscreen\n",
       "        ></iframe>\n",
       "        "
      ],
      "text/plain": [
       "<IPython.lib.display.YouTubeVideo at 0x7ff28b1177d0>"
      ]
     },
     "execution_count": 13,
     "metadata": {},
     "output_type": "execute_result"
    }
   ],
   "source": [
    "IPython.display.YouTubeVideo('xj121Km8_tw')"
   ]
  }
 ],
 "metadata": {
  "kernelspec": {
   "display_name": "Python 3",
   "language": "python",
   "name": "python3"
  },
  "language_info": {
   "codemirror_mode": {
    "name": "ipython",
    "version": 3
   },
   "file_extension": ".py",
   "mimetype": "text/x-python",
   "name": "python",
   "nbconvert_exporter": "python",
   "pygments_lexer": "ipython3",
   "version": "3.7.4"
  }
 },
 "nbformat": 4,
 "nbformat_minor": 2
}
